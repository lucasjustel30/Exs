{
  "nbformat": 4,
  "nbformat_minor": 0,
  "metadata": {
    "colab": {
      "provenance": [],
      "authorship_tag": "ABX9TyN/fxQ+3LtTRjO5QKXWRgsw",
      "include_colab_link": true
    },
    "kernelspec": {
      "name": "python3",
      "display_name": "Python 3"
    },
    "language_info": {
      "name": "python"
    }
  },
  "cells": [
    {
      "cell_type": "markdown",
      "metadata": {
        "id": "view-in-github",
        "colab_type": "text"
      },
      "source": [
        "<a href=\"https://colab.research.google.com/github/lucasjustel30/Phyton/blob/main/Database.ipynb\" target=\"_parent\"><img src=\"https://colab.research.google.com/assets/colab-badge.svg\" alt=\"Open In Colab\"/></a>"
      ]
    },
    {
      "cell_type": "code",
      "execution_count": null,
      "metadata": {
        "id": "U-5RIDxbkToH"
      },
      "outputs": [],
      "source": [
        "id,\tData,\tFechamento\n",
        "1,\t01.09.2022,\t33.85\n",
        "2,\t02.09.2022,\t33.42\n",
        "3,\t05.09.2022,\t33.33\n",
        "4,\t06.09.2022,\t32.1\n",
        "5,\t08.09.2022,\t31.8\n",
        "6,\t09.09.2022,\t31.79\n",
        "7,\t12.09.2022,\t31.58\n",
        "8,\t13.09.2022,\t30.65\n",
        "9,\t14.09.2022,\t31.12\n",
        "10,\t15.09.2022,\t31.06\n",
        "11,\t16.09.2022,\t30.78\n",
        "12,\t19.09.2022,\t31.27\n",
        "13,\t20.09.2022,\t31.09\n",
        "14,\t21.09.2022,\t31.17\n",
        "15,\t22.09.2022,\t31.94\n",
        "16,\t23.09.2022,\t29.94\n",
        "17,\t26.09.2022,\t29.46\n",
        "18,\t27.09.2022,\t29.67\n",
        "19,\t28.09.2022,\t29.27\n",
        "20,\t29.09.2022,\t29.31\n",
        "21,\t30.09.2022,\t29.8"
      ]
    }
  ]
}